{
 "cells": [
  {
   "cell_type": "code",
   "execution_count": 1,
   "id": "1a26f04f",
   "metadata": {},
   "outputs": [],
   "source": [
    "import os"
   ]
  },
  {
   "cell_type": "code",
   "execution_count": 3,
   "id": "7062653d",
   "metadata": {},
   "outputs": [],
   "source": [
    "from sklearn.feature_extraction.text import TfidfVectorizer"
   ]
  },
  {
   "cell_type": "code",
   "execution_count": 6,
   "id": "b109d076",
   "metadata": {},
   "outputs": [],
   "source": [
    "from sklearn.metrics.pairwise import cosine_similarity"
   ]
  },
  {
   "cell_type": "code",
   "execution_count": 13,
   "id": "5b924e01",
   "metadata": {},
   "outputs": [],
   "source": [
    "student_files=[doc for doc in os.listdir() if doc.endswith('.txt')]"
   ]
  },
  {
   "cell_type": "code",
   "execution_count": 14,
   "id": "acfcf0e6",
   "metadata": {},
   "outputs": [
    {
     "data": {
      "text/plain": [
       "['plagarism chk.txt', 'plagarism chk2.txt']"
      ]
     },
     "execution_count": 14,
     "metadata": {},
     "output_type": "execute_result"
    }
   ],
   "source": [
    "student_files"
   ]
  },
  {
   "cell_type": "code",
   "execution_count": 15,
   "id": "a12b00f8",
   "metadata": {},
   "outputs": [],
   "source": [
    "student_notes=[open(_file,encoding='utf-8').read() for _file in student_files]"
   ]
  },
  {
   "cell_type": "code",
   "execution_count": 16,
   "id": "369aafb6",
   "metadata": {},
   "outputs": [
    {
     "data": {
      "text/plain": [
       "['The world is constantly changing, and it can be difficult to keep up with the latest developments. Technology, in particular, is advancing at an incredibly rapid pace. From smartphones and social media to artificial intelligence and self-driving cars, new innovations are constantly being introduced that change the way we live and work. It is important to stay informed about these changes and their potential impact on our lives. By keeping up with the latest developments, we can make informed decisions and adapt to the evolving world around us.\\n',\n",
       " 'Education is the key to success. It provides individuals with the knowledge and skills they need to succeed in their chosen career and make a positive impact on society. Education is not just about learning facts and figures, but also about developing critical thinking skills, creativity, and the ability to communicate effectively. With the right education, individuals can unlock their full potential and achieve their goals. It is important for everyone to have access to quality education, regardless of their background or socioeconomic status, so that they can contribute to the betterment of society and the world as a whole.']"
      ]
     },
     "execution_count": 16,
     "metadata": {},
     "output_type": "execute_result"
    }
   ],
   "source": [
    "student_notes"
   ]
  },
  {
   "cell_type": "code",
   "execution_count": 17,
   "id": "8101c1c3",
   "metadata": {},
   "outputs": [],
   "source": [
    "def vectorize(text):\n",
    "    return TfidfVectorizer().fit_transform(text).toarray()"
   ]
  },
  {
   "cell_type": "code",
   "execution_count": 18,
   "id": "57a1bb31",
   "metadata": {},
   "outputs": [],
   "source": [
    "def similarity(doc1,doc2):\n",
    "    return cosine_similarity([doc1,doc2])"
   ]
  },
  {
   "cell_type": "code",
   "execution_count": 20,
   "id": "82bb892e",
   "metadata": {},
   "outputs": [],
   "source": [
    "vectors =vectorize(student_notes)"
   ]
  },
  {
   "cell_type": "code",
   "execution_count": 21,
   "id": "89a63f61",
   "metadata": {},
   "outputs": [
    {
     "data": {
      "text/plain": [
       "array([[0.        , 0.06436602, 0.        , 0.        , 0.09046419,\n",
       "        0.09046419, 0.        , 0.09046419, 0.38619609, 0.09046419,\n",
       "        0.09046419, 0.09046419, 0.        , 0.09046419, 0.        ,\n",
       "        0.09046419, 0.09046419, 0.        , 0.        , 0.09046419,\n",
       "        0.12873203, 0.        , 0.09046419, 0.09046419, 0.09046419,\n",
       "        0.09046419, 0.        , 0.        , 0.18092838, 0.        ,\n",
       "        0.        , 0.        , 0.09046419, 0.        , 0.18092838,\n",
       "        0.09046419, 0.09046419, 0.        , 0.        , 0.        ,\n",
       "        0.09046419, 0.        , 0.        , 0.        , 0.09046419,\n",
       "        0.        , 0.        , 0.        , 0.06436602, 0.06436602,\n",
       "        0.06436602, 0.09046419, 0.        , 0.18092838, 0.09046419,\n",
       "        0.09046419, 0.09046419, 0.19309805, 0.12873203, 0.        ,\n",
       "        0.09046419, 0.09046419, 0.        , 0.        , 0.18092838,\n",
       "        0.        , 0.09046419, 0.09046419, 0.06436602, 0.09046419,\n",
       "        0.        , 0.09046419, 0.        , 0.        , 0.06436602,\n",
       "        0.        , 0.09046419, 0.09046419, 0.09046419, 0.        ,\n",
       "        0.06436602, 0.        , 0.        , 0.09046419, 0.        ,\n",
       "        0.        , 0.09046419, 0.        , 0.09046419, 0.        ,\n",
       "        0.09046419, 0.        , 0.        , 0.        , 0.09046419,\n",
       "        0.        , 0.        , 0.09046419, 0.06436602, 0.32183008,\n",
       "        0.06436602, 0.09046419, 0.        , 0.        , 0.25746406,\n",
       "        0.        , 0.18092838, 0.09046419, 0.09046419, 0.18092838,\n",
       "        0.        , 0.12873203, 0.09046419, 0.12873203],\n",
       "       [0.07943508, 0.11303743, 0.07943508, 0.07943508, 0.        ,\n",
       "        0.        , 0.07943508, 0.        , 0.33911229, 0.        ,\n",
       "        0.        , 0.        , 0.07943508, 0.        , 0.07943508,\n",
       "        0.        , 0.        , 0.07943508, 0.07943508, 0.        ,\n",
       "        0.11303743, 0.07943508, 0.        , 0.        , 0.        ,\n",
       "        0.        , 0.07943508, 0.07943508, 0.        , 0.07943508,\n",
       "        0.07943508, 0.07943508, 0.        , 0.07943508, 0.        ,\n",
       "        0.        , 0.        , 0.31774033, 0.07943508, 0.07943508,\n",
       "        0.        , 0.07943508, 0.07943508, 0.07943508, 0.        ,\n",
       "        0.07943508, 0.07943508, 0.07943508, 0.05651872, 0.05651872,\n",
       "        0.05651872, 0.        , 0.15887017, 0.        , 0.        ,\n",
       "        0.        , 0.        , 0.16955615, 0.11303743, 0.07943508,\n",
       "        0.        , 0.        , 0.07943508, 0.07943508, 0.        ,\n",
       "        0.07943508, 0.        , 0.        , 0.05651872, 0.        ,\n",
       "        0.07943508, 0.        , 0.07943508, 0.15887017, 0.05651872,\n",
       "        0.07943508, 0.        , 0.        , 0.        , 0.07943508,\n",
       "        0.05651872, 0.07943508, 0.07943508, 0.        , 0.07943508,\n",
       "        0.07943508, 0.        , 0.15887017, 0.        , 0.07943508,\n",
       "        0.        , 0.15887017, 0.07943508, 0.07943508, 0.        ,\n",
       "        0.07943508, 0.07943508, 0.        , 0.05651872, 0.33911229,\n",
       "        0.22607486, 0.        , 0.15887017, 0.07943508, 0.33911229,\n",
       "        0.07943508, 0.        , 0.        , 0.        , 0.        ,\n",
       "        0.07943508, 0.11303743, 0.        , 0.05651872]])"
      ]
     },
     "execution_count": 21,
     "metadata": {},
     "output_type": "execute_result"
    }
   ],
   "source": [
    "vectors"
   ]
  },
  {
   "cell_type": "code",
   "execution_count": 22,
   "id": "d84c8382",
   "metadata": {},
   "outputs": [],
   "source": [
    "s_vectors = list(zip(student_files,vectors))"
   ]
  },
  {
   "cell_type": "code",
   "execution_count": 23,
   "id": "c61bff40",
   "metadata": {},
   "outputs": [
    {
     "data": {
      "text/plain": [
       "[('plagarism chk.txt',\n",
       "  array([0.        , 0.06436602, 0.        , 0.        , 0.09046419,\n",
       "         0.09046419, 0.        , 0.09046419, 0.38619609, 0.09046419,\n",
       "         0.09046419, 0.09046419, 0.        , 0.09046419, 0.        ,\n",
       "         0.09046419, 0.09046419, 0.        , 0.        , 0.09046419,\n",
       "         0.12873203, 0.        , 0.09046419, 0.09046419, 0.09046419,\n",
       "         0.09046419, 0.        , 0.        , 0.18092838, 0.        ,\n",
       "         0.        , 0.        , 0.09046419, 0.        , 0.18092838,\n",
       "         0.09046419, 0.09046419, 0.        , 0.        , 0.        ,\n",
       "         0.09046419, 0.        , 0.        , 0.        , 0.09046419,\n",
       "         0.        , 0.        , 0.        , 0.06436602, 0.06436602,\n",
       "         0.06436602, 0.09046419, 0.        , 0.18092838, 0.09046419,\n",
       "         0.09046419, 0.09046419, 0.19309805, 0.12873203, 0.        ,\n",
       "         0.09046419, 0.09046419, 0.        , 0.        , 0.18092838,\n",
       "         0.        , 0.09046419, 0.09046419, 0.06436602, 0.09046419,\n",
       "         0.        , 0.09046419, 0.        , 0.        , 0.06436602,\n",
       "         0.        , 0.09046419, 0.09046419, 0.09046419, 0.        ,\n",
       "         0.06436602, 0.        , 0.        , 0.09046419, 0.        ,\n",
       "         0.        , 0.09046419, 0.        , 0.09046419, 0.        ,\n",
       "         0.09046419, 0.        , 0.        , 0.        , 0.09046419,\n",
       "         0.        , 0.        , 0.09046419, 0.06436602, 0.32183008,\n",
       "         0.06436602, 0.09046419, 0.        , 0.        , 0.25746406,\n",
       "         0.        , 0.18092838, 0.09046419, 0.09046419, 0.18092838,\n",
       "         0.        , 0.12873203, 0.09046419, 0.12873203])),\n",
       " ('plagarism chk2.txt',\n",
       "  array([0.07943508, 0.11303743, 0.07943508, 0.07943508, 0.        ,\n",
       "         0.        , 0.07943508, 0.        , 0.33911229, 0.        ,\n",
       "         0.        , 0.        , 0.07943508, 0.        , 0.07943508,\n",
       "         0.        , 0.        , 0.07943508, 0.07943508, 0.        ,\n",
       "         0.11303743, 0.07943508, 0.        , 0.        , 0.        ,\n",
       "         0.        , 0.07943508, 0.07943508, 0.        , 0.07943508,\n",
       "         0.07943508, 0.07943508, 0.        , 0.07943508, 0.        ,\n",
       "         0.        , 0.        , 0.31774033, 0.07943508, 0.07943508,\n",
       "         0.        , 0.07943508, 0.07943508, 0.07943508, 0.        ,\n",
       "         0.07943508, 0.07943508, 0.07943508, 0.05651872, 0.05651872,\n",
       "         0.05651872, 0.        , 0.15887017, 0.        , 0.        ,\n",
       "         0.        , 0.        , 0.16955615, 0.11303743, 0.07943508,\n",
       "         0.        , 0.        , 0.07943508, 0.07943508, 0.        ,\n",
       "         0.07943508, 0.        , 0.        , 0.05651872, 0.        ,\n",
       "         0.07943508, 0.        , 0.07943508, 0.15887017, 0.05651872,\n",
       "         0.07943508, 0.        , 0.        , 0.        , 0.07943508,\n",
       "         0.05651872, 0.07943508, 0.07943508, 0.        , 0.07943508,\n",
       "         0.07943508, 0.        , 0.15887017, 0.        , 0.07943508,\n",
       "         0.        , 0.15887017, 0.07943508, 0.07943508, 0.        ,\n",
       "         0.07943508, 0.07943508, 0.        , 0.05651872, 0.33911229,\n",
       "         0.22607486, 0.        , 0.15887017, 0.07943508, 0.33911229,\n",
       "         0.07943508, 0.        , 0.        , 0.        , 0.        ,\n",
       "         0.07943508, 0.11303743, 0.        , 0.05651872]))]"
      ]
     },
     "execution_count": 23,
     "metadata": {},
     "output_type": "execute_result"
    }
   ],
   "source": [
    "s_vectors"
   ]
  },
  {
   "cell_type": "code",
   "execution_count": 24,
   "id": "8ca47dc0",
   "metadata": {},
   "outputs": [],
   "source": [
    "plagiarism_results=set()"
   ]
  },
  {
   "cell_type": "code",
   "execution_count": 29,
   "id": "661d0a0a",
   "metadata": {},
   "outputs": [],
   "source": [
    "def check_plagiarism():\n",
    "    global s_vectors\n",
    "    for student_a,text_vector_a in s_vectors:\n",
    "        new_vectors=s_vectors.copy()\n",
    "        current_index = new_vectors.index((student_a,text_vector_a))\n",
    "        print(current_index)\n",
    "        del new_vectors[current_index]\n",
    "        for student_b,text_vector_b in new_vectors:\n",
    "            sim_score=similarity(text_vector_a,text_vector_b)[0][1]\n",
    "            student_pair=((student_a,student_b))\n",
    "            print(similarity(text_vector_a,text_vector_b))\n",
    "            print (student_pair)\n",
    "            score=(student_pair[0],student_pair[1],sim_score)\n",
    "            plagiarism_results.add(score)\n",
    "    return plagiarism_results\n",
    "            \n",
    "            "
   ]
  },
  {
   "cell_type": "code",
   "execution_count": 31,
   "id": "486b48e9",
   "metadata": {},
   "outputs": [
    {
     "name": "stdout",
     "output_type": "stream",
     "text": [
      "0\n",
      "[[1.         0.45837345]\n",
      " [0.45837345 1.        ]]\n",
      "('plagarism chk.txt', 'plagarism chk2.txt')\n",
      "1\n",
      "[[1.         0.45837345]\n",
      " [0.45837345 1.        ]]\n",
      "('plagarism chk2.txt', 'plagarism chk.txt')\n",
      "('plagarism chk.txt', 'plagarism chk2.txt', 0.458373450114556)\n",
      "('plagarism chk2.txt', 'plagarism chk2.txt', 1.0)\n",
      "('plagarism chk2.txt', 'plagarism chk.txt', 0.458373450114556)\n",
      "('plagarism chk.txt', 'plagarism chk.txt', 1.0000000000000007)\n"
     ]
    }
   ],
   "source": [
    "for data in check_plagiarism():\n",
    "    print(data)"
   ]
  },
  {
   "cell_type": "code",
   "execution_count": null,
   "id": "5b3db60a",
   "metadata": {},
   "outputs": [],
   "source": []
  }
 ],
 "metadata": {
  "kernelspec": {
   "display_name": "Python 3",
   "language": "python",
   "name": "python3"
  },
  "language_info": {
   "codemirror_mode": {
    "name": "ipython",
    "version": 3
   },
   "file_extension": ".py",
   "mimetype": "text/x-python",
   "name": "python",
   "nbconvert_exporter": "python",
   "pygments_lexer": "ipython3",
   "version": "3.8.8"
  }
 },
 "nbformat": 4,
 "nbformat_minor": 5
}
